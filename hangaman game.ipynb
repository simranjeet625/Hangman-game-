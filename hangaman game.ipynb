{
 "cells": [
  {
   "cell_type": "code",
   "execution_count": null,
   "id": "7c96bfc8-99a7-4fd8-9237-1e7fb185b99b",
   "metadata": {},
   "outputs": [
    {
     "name": "stdout",
     "output_type": "stream",
     "text": [
      "Welcome to Hangman!\n",
      "\n",
      "Current word: __________\n",
      "Tries left: 6\n"
     ]
    },
    {
     "name": "stdin",
     "output_type": "stream",
     "text": [
      "Guess a letter:  j\n"
     ]
    },
    {
     "name": "stdout",
     "output_type": "stream",
     "text": [
      "\n",
      "Current word: j_________\n",
      "Tries left: 6\n"
     ]
    }
   ],
   "source": [
    "import random\n",
    "\n",
    "def hangman():\n",
    "    words = [\"python\", \"java\", \"kotlin\", \"javascript\", \"hangman\"]\n",
    "    word = random.choice(words)\n",
    "    guessed_word = \"_\" * len(word)\n",
    "    tries = 6\n",
    "    guessed_letters = []\n",
    "    print(\"Welcome to Hangman!\")\n",
    "\n",
    "    while tries > 0 and \"_\" in guessed_word:\n",
    "        print(f\"\\nCurrent word: {guessed_word}\")\n",
    "        print(f\"Tries left: {tries}\")\n",
    "        user_input = input(\"Guess a letter: \").lower()\n",
    "\n",
    "        if user_input in guessed_letters:\n",
    "            print(\"You've already guessed that letter.\")\n",
    "        elif user_input in word:\n",
    "            guessed_letters.append(user_input)\n",
    "            guessed_word = \"\".join([letter if letter in guessed_letters else \"_\" for letter in word])\n",
    "        else:\n",
    "            guessed_letters.append(user_input)\n",
    "            tries -= 1\n",
    "            print(f\"{user_input} is not in the word.\")\n",
    "\n",
    "    if \"_\" not in guessed_word:\n",
    "        print(f\"Congratulations! You've guessed the word: {word}\")\n",
    "    else:\n",
    "        print(f\"Game over! The word was: {word}\")\n",
    "hangman()\n"
   ]
  },
  {
   "cell_type": "code",
   "execution_count": null,
   "id": "77f9c675-8d4d-42de-99fa-e55cb0f9f397",
   "metadata": {},
   "outputs": [],
   "source": []
  }
 ],
 "metadata": {
  "kernelspec": {
   "display_name": "Python 3 (ipykernel)",
   "language": "python",
   "name": "python3"
  },
  "language_info": {
   "codemirror_mode": {
    "name": "ipython",
    "version": 3
   },
   "file_extension": ".py",
   "mimetype": "text/x-python",
   "name": "python",
   "nbconvert_exporter": "python",
   "pygments_lexer": "ipython3",
   "version": "3.12.4"
  }
 },
 "nbformat": 4,
 "nbformat_minor": 5
}
